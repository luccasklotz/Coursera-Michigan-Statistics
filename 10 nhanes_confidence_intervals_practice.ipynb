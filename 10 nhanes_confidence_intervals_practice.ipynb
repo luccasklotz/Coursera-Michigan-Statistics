{
 "cells": [
  {
   "cell_type": "markdown",
   "metadata": {},
   "source": [
    "# Practice notebook for confidence intervals using NHANES data\n",
    "\n",
    "This notebook will give you the opportunity to practice working with confidence intervals using the NHANES data.\n",
    "\n",
    "You can enter your code into the cells that say \"enter your code here\", and you can type responses to the questions into the cells that say \"Type Markdown and Latex\".\n",
    "\n",
    "Note that most of the code that you will need to write below is very similar to code that appears in the case study notebook.  You will need to edit code from that notebook in small ways to adapt it to the prompts below.\n",
    "\n",
    "To get started, we will use the same module imports and read the data in the same way as we did in the case study:"
   ]
  },
  {
   "cell_type": "code",
   "execution_count": 1,
   "metadata": {},
   "outputs": [],
   "source": [
    "%matplotlib inline\n",
    "import matplotlib.pyplot as plt\n",
    "import pandas as pd\n",
    "import numpy as np\n",
    "import seaborn as sns\n",
    "import statsmodels.api as sm\n",
    "\n",
    "da = pd.read_csv(\"nhanes_2015_2016.csv\")"
   ]
  },
  {
   "cell_type": "markdown",
   "metadata": {},
   "source": [
    "## Question 1\n",
    "\n",
    "Restrict the sample to women between 35 and 50, then use the marital status variable [DMDMARTL](https://wwwn.cdc.gov/Nchs/Nhanes/2015-2016/DEMO_I.htm#DMDMARTL) to partition this sample into two groups - women who are currently married, and women who are not currently married.  Within each of these groups, calculate the proportion of women who have completed college.  Calculate 95% confidence intervals for each of these proportions."
   ]
  },
  {
   "cell_type": "code",
   "execution_count": 2,
   "metadata": {},
   "outputs": [
    {
     "data": {
      "text/html": [
       "<div>\n",
       "<style scoped>\n",
       "    .dataframe tbody tr th:only-of-type {\n",
       "        vertical-align: middle;\n",
       "    }\n",
       "\n",
       "    .dataframe tbody tr th {\n",
       "        vertical-align: top;\n",
       "    }\n",
       "\n",
       "    .dataframe thead th {\n",
       "        text-align: right;\n",
       "    }\n",
       "</style>\n",
       "<table border=\"1\" class=\"dataframe\">\n",
       "  <thead>\n",
       "    <tr style=\"text-align: right;\">\n",
       "      <th></th>\n",
       "      <th>Married</th>\n",
       "      <th>CompletedCollege</th>\n",
       "      <th>RIDAGEYR</th>\n",
       "    </tr>\n",
       "  </thead>\n",
       "  <tbody>\n",
       "    <tr>\n",
       "      <th>4</th>\n",
       "      <td>0</td>\n",
       "      <td>0</td>\n",
       "      <td>42</td>\n",
       "    </tr>\n",
       "    <tr>\n",
       "      <th>34</th>\n",
       "      <td>1</td>\n",
       "      <td>0</td>\n",
       "      <td>37</td>\n",
       "    </tr>\n",
       "    <tr>\n",
       "      <th>50</th>\n",
       "      <td>1</td>\n",
       "      <td>0</td>\n",
       "      <td>39</td>\n",
       "    </tr>\n",
       "    <tr>\n",
       "      <th>52</th>\n",
       "      <td>0</td>\n",
       "      <td>0</td>\n",
       "      <td>50</td>\n",
       "    </tr>\n",
       "    <tr>\n",
       "      <th>55</th>\n",
       "      <td>1</td>\n",
       "      <td>0</td>\n",
       "      <td>45</td>\n",
       "    </tr>\n",
       "  </tbody>\n",
       "</table>\n",
       "</div>"
      ],
      "text/plain": [
       "    Married  CompletedCollege  RIDAGEYR\n",
       "4         0                 0        42\n",
       "34        1                 0        37\n",
       "50        1                 0        39\n",
       "52        0                 0        50\n",
       "55        1                 0        45"
      ]
     },
     "execution_count": 2,
     "metadata": {},
     "output_type": "execute_result"
    }
   ],
   "source": [
    "# enter your code here\n",
    "df_women35to50 = da[(da['RIDAGEYR']>=35) & (da['RIDAGEYR']<=50) & (da['RIAGENDR']==2)].copy()\n",
    "#df_women35to50['Married'] = 1\n",
    "df_women35to50['Married'] = np.where(df_women35to50['DMDMARTL']==1,1,0)\n",
    "#df_women35to50['CompletedCollege'] = 1\n",
    "df_women35to50['CompletedCollege'] = np.where(df_women35to50['DMDEDUC2']==5,1,0)\n",
    "df_women35to50 = df_women35to50[['Married','CompletedCollege','RIDAGEYR']]\n",
    "df_women35to50.head(5)"
   ]
  },
  {
   "cell_type": "code",
   "execution_count": 3,
   "metadata": {},
   "outputs": [
    {
     "data": {
      "text/html": [
       "<div>\n",
       "<style scoped>\n",
       "    .dataframe tbody tr th:only-of-type {\n",
       "        vertical-align: middle;\n",
       "    }\n",
       "\n",
       "    .dataframe tbody tr th {\n",
       "        vertical-align: top;\n",
       "    }\n",
       "\n",
       "    .dataframe thead tr th {\n",
       "        text-align: left;\n",
       "    }\n",
       "</style>\n",
       "<table border=\"1\" class=\"dataframe\">\n",
       "  <thead>\n",
       "    <tr>\n",
       "      <th></th>\n",
       "      <th colspan=\"2\" halign=\"left\">CompletedCollege</th>\n",
       "    </tr>\n",
       "    <tr>\n",
       "      <th></th>\n",
       "      <th>Proportion</th>\n",
       "      <th>N</th>\n",
       "    </tr>\n",
       "  </thead>\n",
       "  <tbody>\n",
       "    <tr>\n",
       "      <th>Married</th>\n",
       "      <td>0.360802</td>\n",
       "      <td>449</td>\n",
       "    </tr>\n",
       "    <tr>\n",
       "      <th>Not married</th>\n",
       "      <td>0.213018</td>\n",
       "      <td>338</td>\n",
       "    </tr>\n",
       "  </tbody>\n",
       "</table>\n",
       "</div>"
      ],
      "text/plain": [
       "            CompletedCollege     \n",
       "                  Proportion    N\n",
       "Married             0.360802  449\n",
       "Not married         0.213018  338"
      ]
     },
     "execution_count": 3,
     "metadata": {},
     "output_type": "execute_result"
    }
   ],
   "source": [
    "df_prop = df_women35to50\n",
    "df_prop['Married'].replace({0:'Not married',1:'Married'},inplace=True)\n",
    "df_prop = df_women35to50.groupby('Married').agg({'CompletedCollege':[np.mean,np.size]})\n",
    "df_prop.rename(columns={'mean':'Proportion','size':'N'},inplace=True)\n",
    "df_prop.index.name=None\n",
    "df_prop"
   ]
  },
  {
   "cell_type": "code",
   "execution_count": 4,
   "metadata": {},
   "outputs": [
    {
     "name": "stdout",
     "output_type": "stream",
     "text": [
      "Married interval:  (0.31638193710753626, 0.4052216263668512)\n",
      "Not Married interval:  (0.16936816767089768, 0.2566673352876822)\n"
     ]
    }
   ],
   "source": [
    "print('Married interval: ',sm.stats.proportion_confint(df_prop.iloc[0,0]*df_prop.iloc[0,1], df_prop.iloc[0,1]))\n",
    "print('Not Married interval: ',sm.stats.proportion_confint(df_prop.iloc[1,0]*df_prop.iloc[1,1], df_prop.iloc[1,1]))"
   ]
  },
  {
   "cell_type": "markdown",
   "metadata": {},
   "source": [
    "__Q1a.__ Identify which of the two confidence intervals is wider, and explain why this is the case. "
   ]
  },
  {
   "cell_type": "markdown",
   "metadata": {},
   "source": []
  },
  {
   "cell_type": "markdown",
   "metadata": {},
   "source": [
    "__Q1b.__ Write 1-2 sentences summarizing these findings for an audience that does not know what a confidence interval is (the goal here is to report the substance of what you learned about how marital status and educational attainment are related, not to teach a person what a confidence interval is)."
   ]
  },
  {
   "cell_type": "markdown",
   "metadata": {},
   "source": []
  },
  {
   "cell_type": "markdown",
   "metadata": {},
   "source": [
    "## Question 2\n",
    "\n",
    "Construct 95% confidence intervals for the proportion of smokers who are female, and for the proportion of smokers who are male.  Then construct a 95% confidence interval for the difference between these proportions."
   ]
  },
  {
   "cell_type": "code",
   "execution_count": 5,
   "metadata": {},
   "outputs": [
    {
     "data": {
      "text/html": [
       "<div>\n",
       "<style scoped>\n",
       "    .dataframe tbody tr th:only-of-type {\n",
       "        vertical-align: middle;\n",
       "    }\n",
       "\n",
       "    .dataframe tbody tr th {\n",
       "        vertical-align: top;\n",
       "    }\n",
       "\n",
       "    .dataframe thead th {\n",
       "        text-align: right;\n",
       "    }\n",
       "</style>\n",
       "<table border=\"1\" class=\"dataframe\">\n",
       "  <thead>\n",
       "    <tr style=\"text-align: right;\">\n",
       "      <th>Gender</th>\n",
       "      <th>Female</th>\n",
       "      <th>Male</th>\n",
       "    </tr>\n",
       "    <tr>\n",
       "      <th>Smoker</th>\n",
       "      <th></th>\n",
       "      <th></th>\n",
       "    </tr>\n",
       "  </thead>\n",
       "  <tbody>\n",
       "    <tr>\n",
       "      <th>0</th>\n",
       "      <td>2070</td>\n",
       "      <td>1346</td>\n",
       "    </tr>\n",
       "    <tr>\n",
       "      <th>1</th>\n",
       "      <td>906</td>\n",
       "      <td>1413</td>\n",
       "    </tr>\n",
       "  </tbody>\n",
       "</table>\n",
       "</div>"
      ],
      "text/plain": [
       "Gender  Female  Male\n",
       "Smoker              \n",
       "0         2070  1346\n",
       "1          906  1413"
      ]
     },
     "execution_count": 5,
     "metadata": {},
     "output_type": "execute_result"
    }
   ],
   "source": [
    "df_smokers = da[['SMQ020','RIAGENDR']].copy()\n",
    "df_smokers['Smoker'] = np.where(df_smokers['SMQ020']==1,1,0)\n",
    "df_smokers['Gender'] = np.where(df_smokers['RIAGENDR']==1,'Male','Female')\n",
    "df_smokers.drop(columns=['SMQ020','RIAGENDR'],inplace=True)\n",
    "ct_smokers = pd.crosstab(df_smokers['Smoker'],df_smokers['Gender'])\n",
    "ct_smokers"
   ]
  },
  {
   "cell_type": "code",
   "execution_count": 6,
   "metadata": {},
   "outputs": [
    {
     "name": "stdout",
     "output_type": "stream",
     "text": [
      "Proportion of Male Smokers:\t\t  (0.512)\n",
      "Proportion of Male Smokers CI:\t\t  (0.493 , 0.531)\n",
      "Proportion of Female Smokers:\t\t  (0.304)\n",
      "Proportion of Female Smokers CI:\t  (0.288 , 0.321)\n"
     ]
    }
   ],
   "source": [
    "n_male = ct_smokers.loc[1,'Male']+ct_smokers.loc[0,'Male']\n",
    "p_male = ct_smokers.loc[1,'Male']/n_male\n",
    "\n",
    "n_female = ct_smokers.loc[1,'Female']+ct_smokers.loc[0,'Female']\n",
    "p_female = ct_smokers.loc[1,'Female']/n_female\n",
    "\n",
    "print('Proportion of Male Smokers:\\t\\t ','(%.3f)' %(p_male))\n",
    "\n",
    "print('Proportion of Male Smokers CI:\\t\\t ','(%.3f , %.3f)' %sm.stats.proportion_confint(p_male*n_male,n_male))\n",
    "\n",
    "print('Proportion of Female Smokers:\\t\\t ','(%.3f)' %p_female)\n",
    "\n",
    "print('Proportion of Female Smokers CI:\\t ','(%.3f , %.3f)' %sm.stats.proportion_confint(p_female*n_female,n_female))"
   ]
  },
  {
   "cell_type": "code",
   "execution_count": 7,
   "metadata": {},
   "outputs": [
    {
     "name": "stdout",
     "output_type": "stream",
     "text": [
      "0.009516254762527675\n",
      "0.008435287344906213\n",
      "0.012716649609722899\n"
     ]
    }
   ],
   "source": [
    "se_male = np.sqrt(p_male*(1-p_male)/n_male)\n",
    "print(se_male)\n",
    "\n",
    "se_female = np.sqrt(p_female*(1-p_female)/n_female)\n",
    "print(se_female)\n",
    "\n",
    "se_diff = np.sqrt(se_female**2 + se_male**2)\n",
    "print(se_diff)"
   ]
  },
  {
   "cell_type": "code",
   "execution_count": 8,
   "metadata": {},
   "outputs": [
    {
     "data": {
      "text/plain": [
       "Smoker    0.009518\n",
       "dtype: float64"
      ]
     },
     "execution_count": 8,
     "metadata": {},
     "output_type": "execute_result"
    }
   ],
   "source": [
    "df_smokers[df_smokers['Gender']=='Male'].std()/np.sqrt(n_male)"
   ]
  },
  {
   "cell_type": "code",
   "execution_count": 9,
   "metadata": {},
   "outputs": [
    {
     "name": "stdout",
     "output_type": "stream",
     "text": [
      "0.20770659659296842\n"
     ]
    },
    {
     "data": {
      "text/plain": [
       "(0.18278196335791153, 0.2326312298280253)"
      ]
     },
     "execution_count": 9,
     "metadata": {},
     "output_type": "execute_result"
    }
   ],
   "source": [
    "diff = p_male - p_female\n",
    "print(diff)\n",
    "\n",
    "lcb = diff - 1.96 * se_diff\n",
    "ucb = diff + 1.96 * se_diff\n",
    "(lcb,ucb)"
   ]
  },
  {
   "cell_type": "code",
   "execution_count": 10,
   "metadata": {},
   "outputs": [
    {
     "data": {
      "text/plain": [
       "(0.18285580207735627, 0.23255739110858056)"
      ]
     },
     "execution_count": 10,
     "metadata": {},
     "output_type": "execute_result"
    }
   ],
   "source": [
    "meanCI_male = sm.stats.DescrStatsW(df_smokers[df_smokers['Gender']=='Male']['Smoker'])#.zconfint_mean()\n",
    "meanCI_female = sm.stats.DescrStatsW(df_smokers[df_smokers['Gender']=='Female']['Smoker'])#.zconfint_mean()\n",
    "\n",
    "#print(meanCI_male,'\\n',meanCI_female)\n",
    "\n",
    "sm.stats.CompareMeans(meanCI_male,meanCI_female).zconfint_diff()"
   ]
  },
  {
   "cell_type": "markdown",
   "metadata": {},
   "source": [
    "__Q2a.__ Discuss why it may be relevant to report the proportions of smokers who are female and male, and contrast this to reporting the proportions of males and females who smoke."
   ]
  },
  {
   "cell_type": "markdown",
   "metadata": {},
   "source": []
  },
  {
   "cell_type": "markdown",
   "metadata": {},
   "source": [
    "__Q2b.__ How does the width of the confidence interval for the difference of the two proportions compare to the widths of the confidence intervals for each proportion separately?"
   ]
  },
  {
   "cell_type": "markdown",
   "metadata": {},
   "source": []
  },
  {
   "cell_type": "markdown",
   "metadata": {},
   "source": [
    "## Question 3\n",
    "\n",
    "Construct a 95% interval for height ([BMXHT](https://wwwn.cdc.gov/Nchs/Nhanes/2015-2016/BMX_I.htm#BMXHT)) in centimeters.  Then convert height from centimeters to inches by dividing by 2.54, and construct a 95% confidence interval for height in inches.  Finally, convert the endpoints (the lower and upper confidence limits) of the confidence interval from inches to back to centimeters   "
   ]
  },
  {
   "cell_type": "code",
   "execution_count": 11,
   "metadata": {},
   "outputs": [
    {
     "name": "stdout",
     "output_type": "stream",
     "text": [
      "BMXHT    0\n",
      "dtype: int64\n"
     ]
    },
    {
     "data": {
      "text/html": [
       "<div>\n",
       "<style scoped>\n",
       "    .dataframe tbody tr th:only-of-type {\n",
       "        vertical-align: middle;\n",
       "    }\n",
       "\n",
       "    .dataframe tbody tr th {\n",
       "        vertical-align: top;\n",
       "    }\n",
       "\n",
       "    .dataframe thead th {\n",
       "        text-align: right;\n",
       "    }\n",
       "</style>\n",
       "<table border=\"1\" class=\"dataframe\">\n",
       "  <thead>\n",
       "    <tr style=\"text-align: right;\">\n",
       "      <th></th>\n",
       "      <th>BMXHT</th>\n",
       "    </tr>\n",
       "  </thead>\n",
       "  <tbody>\n",
       "    <tr>\n",
       "      <th>count</th>\n",
       "      <td>5673.000000</td>\n",
       "    </tr>\n",
       "    <tr>\n",
       "      <th>mean</th>\n",
       "      <td>166.142834</td>\n",
       "    </tr>\n",
       "    <tr>\n",
       "      <th>std</th>\n",
       "      <td>10.079264</td>\n",
       "    </tr>\n",
       "    <tr>\n",
       "      <th>min</th>\n",
       "      <td>129.700000</td>\n",
       "    </tr>\n",
       "    <tr>\n",
       "      <th>25%</th>\n",
       "      <td>158.700000</td>\n",
       "    </tr>\n",
       "    <tr>\n",
       "      <th>50%</th>\n",
       "      <td>166.000000</td>\n",
       "    </tr>\n",
       "    <tr>\n",
       "      <th>75%</th>\n",
       "      <td>173.500000</td>\n",
       "    </tr>\n",
       "    <tr>\n",
       "      <th>max</th>\n",
       "      <td>202.700000</td>\n",
       "    </tr>\n",
       "  </tbody>\n",
       "</table>\n",
       "</div>"
      ],
      "text/plain": [
       "             BMXHT\n",
       "count  5673.000000\n",
       "mean    166.142834\n",
       "std      10.079264\n",
       "min     129.700000\n",
       "25%     158.700000\n",
       "50%     166.000000\n",
       "75%     173.500000\n",
       "max     202.700000"
      ]
     },
     "execution_count": 11,
     "metadata": {},
     "output_type": "execute_result"
    }
   ],
   "source": [
    "df_height = da[['BMXHT']].dropna()\n",
    "print(df_height.isnull().sum())\n",
    "df_height.describe()"
   ]
  },
  {
   "cell_type": "code",
   "execution_count": 12,
   "metadata": {},
   "outputs": [
    {
     "name": "stdout",
     "output_type": "stream",
     "text": [
      "166.14283447911131\n"
     ]
    },
    {
     "data": {
      "text/plain": [
       "(165.88055125872887, 166.40511769949427)"
      ]
     },
     "execution_count": 12,
     "metadata": {},
     "output_type": "execute_result"
    }
   ],
   "source": [
    "print(df_height['BMXHT'].mean())\n",
    "sm.stats.DescrStatsW(df_height['BMXHT']).zconfint_mean()"
   ]
  },
  {
   "cell_type": "code",
   "execution_count": 13,
   "metadata": {},
   "outputs": [
    {
     "name": "stdout",
     "output_type": "stream",
     "text": [
      "65.41056475555557\n"
     ]
    },
    {
     "data": {
      "text/plain": [
       "(65.30730364516884, 65.51382586594264)"
      ]
     },
     "execution_count": 13,
     "metadata": {},
     "output_type": "execute_result"
    }
   ],
   "source": [
    "df_height['Inches'] = df_height['BMXHT']/2.54\n",
    "print(df_height['Inches'].mean())\n",
    "sm.stats.DescrStatsW(df_height['Inches']).zconfint_mean()"
   ]
  },
  {
   "cell_type": "code",
   "execution_count": 14,
   "metadata": {},
   "outputs": [
    {
     "name": "stdout",
     "output_type": "stream",
     "text": [
      "165.88055125872887 166.4051176994943\n"
     ]
    }
   ],
   "source": [
    "print(65.30730364516884*2.54,65.51382586594264*2.54)"
   ]
  },
  {
   "cell_type": "markdown",
   "metadata": {},
   "source": [
    "__Q3a.__ Describe how the confidence interval constructed in centimeters relates to the confidence interval constructed in inches."
   ]
  },
  {
   "cell_type": "markdown",
   "metadata": {},
   "source": []
  },
  {
   "cell_type": "markdown",
   "metadata": {},
   "source": [
    "## Question 4\n",
    "\n",
    "Partition the sample based on 10-year age bands, i.e. the resulting groups will consist of people with ages from 18-28, 29-38, etc. Construct 95% confidence intervals for the difference between the mean BMI for females and for males within each age band."
   ]
  },
  {
   "cell_type": "code",
   "execution_count": 38,
   "metadata": {},
   "outputs": [],
   "source": [
    "da['agegrp'] = pd.cut(da['RIDAGEYR'],[18,30,40,50,60,70,80])\n",
    "da['Gender'] = np.where(da['RIAGENDR']==2,'Female','Male')"
   ]
  },
  {
   "cell_type": "code",
   "execution_count": 39,
   "metadata": {},
   "outputs": [
    {
     "name": "stdout",
     "output_type": "stream",
     "text": [
      "(5735, 30)\n",
      "73\n"
     ]
    },
    {
     "data": {
      "text/html": [
       "<div>\n",
       "<style scoped>\n",
       "    .dataframe tbody tr th:only-of-type {\n",
       "        vertical-align: middle;\n",
       "    }\n",
       "\n",
       "    .dataframe tbody tr th {\n",
       "        vertical-align: top;\n",
       "    }\n",
       "\n",
       "    .dataframe thead th {\n",
       "        text-align: right;\n",
       "    }\n",
       "</style>\n",
       "<table border=\"1\" class=\"dataframe\">\n",
       "  <thead>\n",
       "    <tr style=\"text-align: right;\">\n",
       "      <th></th>\n",
       "      <th>BMXBMI</th>\n",
       "      <th>Gender</th>\n",
       "      <th>agegrp</th>\n",
       "    </tr>\n",
       "  </thead>\n",
       "  <tbody>\n",
       "    <tr>\n",
       "      <th>0</th>\n",
       "      <td>27.8</td>\n",
       "      <td>Male</td>\n",
       "      <td>(60, 70]</td>\n",
       "    </tr>\n",
       "    <tr>\n",
       "      <th>1</th>\n",
       "      <td>30.8</td>\n",
       "      <td>Male</td>\n",
       "      <td>(50, 60]</td>\n",
       "    </tr>\n",
       "    <tr>\n",
       "      <th>2</th>\n",
       "      <td>28.8</td>\n",
       "      <td>Male</td>\n",
       "      <td>(70, 80]</td>\n",
       "    </tr>\n",
       "    <tr>\n",
       "      <th>3</th>\n",
       "      <td>42.4</td>\n",
       "      <td>Female</td>\n",
       "      <td>(50, 60]</td>\n",
       "    </tr>\n",
       "    <tr>\n",
       "      <th>4</th>\n",
       "      <td>20.3</td>\n",
       "      <td>Female</td>\n",
       "      <td>(40, 50]</td>\n",
       "    </tr>\n",
       "  </tbody>\n",
       "</table>\n",
       "</div>"
      ],
      "text/plain": [
       "   BMXBMI  Gender    agegrp\n",
       "0    27.8    Male  (60, 70]\n",
       "1    30.8    Male  (50, 60]\n",
       "2    28.8    Male  (70, 80]\n",
       "3    42.4  Female  (50, 60]\n",
       "4    20.3  Female  (40, 50]"
      ]
     },
     "execution_count": 39,
     "metadata": {},
     "output_type": "execute_result"
    }
   ],
   "source": [
    "print(da.shape)\n",
    "print(da['BMXBMI'].isnull().sum())\n",
    "da[['BMXBMI','Gender','agegrp']].head()"
   ]
  },
  {
   "cell_type": "code",
   "execution_count": 40,
   "metadata": {},
   "outputs": [
    {
     "name": "stdout",
     "output_type": "stream",
     "text": [
      "(5662, 3)\n",
      "0\n"
     ]
    },
    {
     "data": {
      "text/html": [
       "<div>\n",
       "<style scoped>\n",
       "    .dataframe tbody tr th:only-of-type {\n",
       "        vertical-align: middle;\n",
       "    }\n",
       "\n",
       "    .dataframe tbody tr th {\n",
       "        vertical-align: top;\n",
       "    }\n",
       "\n",
       "    .dataframe thead th {\n",
       "        text-align: right;\n",
       "    }\n",
       "</style>\n",
       "<table border=\"1\" class=\"dataframe\">\n",
       "  <thead>\n",
       "    <tr style=\"text-align: right;\">\n",
       "      <th></th>\n",
       "      <th>Gender</th>\n",
       "      <th>agegrp</th>\n",
       "      <th>BMXBMI</th>\n",
       "    </tr>\n",
       "  </thead>\n",
       "  <tbody>\n",
       "    <tr>\n",
       "      <th>0</th>\n",
       "      <td>Male</td>\n",
       "      <td>(60, 70]</td>\n",
       "      <td>27.8</td>\n",
       "    </tr>\n",
       "    <tr>\n",
       "      <th>1</th>\n",
       "      <td>Male</td>\n",
       "      <td>(50, 60]</td>\n",
       "      <td>30.8</td>\n",
       "    </tr>\n",
       "    <tr>\n",
       "      <th>2</th>\n",
       "      <td>Male</td>\n",
       "      <td>(70, 80]</td>\n",
       "      <td>28.8</td>\n",
       "    </tr>\n",
       "    <tr>\n",
       "      <th>3</th>\n",
       "      <td>Female</td>\n",
       "      <td>(50, 60]</td>\n",
       "      <td>42.4</td>\n",
       "    </tr>\n",
       "    <tr>\n",
       "      <th>4</th>\n",
       "      <td>Female</td>\n",
       "      <td>(40, 50]</td>\n",
       "      <td>20.3</td>\n",
       "    </tr>\n",
       "  </tbody>\n",
       "</table>\n",
       "</div>"
      ],
      "text/plain": [
       "   Gender    agegrp  BMXBMI\n",
       "0    Male  (60, 70]    27.8\n",
       "1    Male  (50, 60]    30.8\n",
       "2    Male  (70, 80]    28.8\n",
       "3  Female  (50, 60]    42.4\n",
       "4  Female  (40, 50]    20.3"
      ]
     },
     "execution_count": 40,
     "metadata": {},
     "output_type": "execute_result"
    }
   ],
   "source": [
    "df_bmi = da.copy()\n",
    "df_bmi.dropna(subset=['BMXBMI'],axis=0,inplace=True)\n",
    "df_bmi = df_bmi[['Gender','agegrp','BMXBMI']]\n",
    "print(df_bmi.shape)\n",
    "print(df_bmi['BMXBMI'].isnull().sum())\n",
    "df_bmi.head()"
   ]
  },
  {
   "cell_type": "code",
   "execution_count": 41,
   "metadata": {},
   "outputs": [
    {
     "data": {
      "text/html": [
       "<div>\n",
       "<style scoped>\n",
       "    .dataframe tbody tr th:only-of-type {\n",
       "        vertical-align: middle;\n",
       "    }\n",
       "\n",
       "    .dataframe tbody tr th {\n",
       "        vertical-align: top;\n",
       "    }\n",
       "\n",
       "    .dataframe thead th {\n",
       "        text-align: right;\n",
       "    }\n",
       "</style>\n",
       "<table border=\"1\" class=\"dataframe\">\n",
       "  <thead>\n",
       "    <tr style=\"text-align: right;\">\n",
       "      <th></th>\n",
       "      <th>agegrp</th>\n",
       "      <th>diff</th>\n",
       "      <th>lb</th>\n",
       "      <th>ub</th>\n",
       "    </tr>\n",
       "  </thead>\n",
       "  <tbody>\n",
       "    <tr>\n",
       "      <th>0</th>\n",
       "      <td>(18, 30]</td>\n",
       "      <td>0.732059</td>\n",
       "      <td>-0.110611</td>\n",
       "      <td>1.574729</td>\n",
       "    </tr>\n",
       "    <tr>\n",
       "      <th>1</th>\n",
       "      <td>(30, 40]</td>\n",
       "      <td>0.713861</td>\n",
       "      <td>-0.259233</td>\n",
       "      <td>1.686954</td>\n",
       "    </tr>\n",
       "    <tr>\n",
       "      <th>2</th>\n",
       "      <td>(50, 60]</td>\n",
       "      <td>1.512291</td>\n",
       "      <td>0.630691</td>\n",
       "      <td>2.393892</td>\n",
       "    </tr>\n",
       "    <tr>\n",
       "      <th>3</th>\n",
       "      <td>(40, 50]</td>\n",
       "      <td>1.436019</td>\n",
       "      <td>0.463264</td>\n",
       "      <td>2.408775</td>\n",
       "    </tr>\n",
       "    <tr>\n",
       "      <th>4</th>\n",
       "      <td>(60, 70]</td>\n",
       "      <td>1.682340</td>\n",
       "      <td>0.770782</td>\n",
       "      <td>2.593899</td>\n",
       "    </tr>\n",
       "    <tr>\n",
       "      <th>5</th>\n",
       "      <td>(70, 80]</td>\n",
       "      <td>1.180521</td>\n",
       "      <td>0.389953</td>\n",
       "      <td>1.971089</td>\n",
       "    </tr>\n",
       "  </tbody>\n",
       "</table>\n",
       "</div>"
      ],
      "text/plain": [
       "     agegrp      diff        lb        ub\n",
       "0  (18, 30]  0.732059 -0.110611  1.574729\n",
       "1  (30, 40]  0.713861 -0.259233  1.686954\n",
       "2  (50, 60]  1.512291  0.630691  2.393892\n",
       "3  (40, 50]  1.436019  0.463264  2.408775\n",
       "4  (60, 70]  1.682340  0.770782  2.593899\n",
       "5  (70, 80]  1.180521  0.389953  1.971089"
      ]
     },
     "execution_count": 41,
     "metadata": {},
     "output_type": "execute_result"
    }
   ],
   "source": [
    "df_diffints = pd.DataFrame(columns = ['agegrp','diff','difference CI'])\n",
    "\n",
    "for j in df_bmi['agegrp'].value_counts().index:\n",
    "    male = sm.stats.DescrStatsW( df_bmi[ (df_bmi['Gender']=='Male') & (df_bmi['agegrp']==j) ]['BMXBMI'] )\n",
    "    female = sm.stats.DescrStatsW( df_bmi[ (df_bmi['Gender']=='Female') & (df_bmi['agegrp']==j) ]['BMXBMI'] )\n",
    "    diff = -(df_bmi[ (df_bmi['Gender']=='Male') & (df_bmi['agegrp']==j) ]['BMXBMI'].mean()) + ( df_bmi[ (df_bmi['Gender']=='Female') & (df_bmi['agegrp']==j) ]['BMXBMI'].mean() )\n",
    "    df_diffints = df_diffints.append(\n",
    "        {'agegrp':j,\n",
    "         'difference CI':sm.stats.CompareMeans(female,male).zconfint_diff(),\n",
    "        'diff':diff} , ignore_index = True)\n",
    "    \n",
    "df_diffints[['lb','ub']] = pd.DataFrame(df_diffints['difference CI'].tolist())\n",
    "df_diffints.drop(columns=['difference CI'],inplace=True)\n",
    "df_diffints                                      "
   ]
  },
  {
   "cell_type": "code",
   "execution_count": 42,
   "metadata": {},
   "outputs": [
    {
     "data": {
      "text/plain": [
       "<matplotlib.axes._subplots.AxesSubplot at 0x26fd1d29688>"
      ]
     },
     "execution_count": 42,
     "metadata": {},
     "output_type": "execute_result"
    },
    {
     "data": {
      "image/png": "[encoded data removed]",
      "text/plain": [
       "<Figure size 432x288 with 1 Axes>"
      ]
     },
     "metadata": {
      "needs_background": "light"
     },
     "output_type": "display_data"
    }
   ],
   "source": [
    "df_diffints.set_index('agegrp',inplace=True)\n",
    "df_diffints.plot(kind='line')"
   ]
  },
  {
   "cell_type": "markdown",
   "metadata": {},
   "source": [
    "__Q4a.__ How do the widths of these confidence intervals differ?  Provide an explanation for any substantial diferences in the confidence interval widths that you see."
   ]
  },
  {
   "cell_type": "markdown",
   "metadata": {},
   "source": [
    "## Question 5\n",
    "\n",
    "Construct a 95% confidence interval for the first and second systolic blood pressure measures, and for the difference between the first and second systolic blood pressure measurements within a subject."
   ]
  },
  {
   "cell_type": "code",
   "execution_count": 43,
   "metadata": {},
   "outputs": [
    {
     "data": {
      "text/plain": [
       "array(['SEQN', 'ALQ101', 'ALQ110', 'ALQ130', 'SMQ020', 'RIAGENDR',\n",
       "       'RIDAGEYR', 'RIDRETH1', 'DMDCITZN', 'DMDEDUC2', 'DMDMARTL',\n",
       "       'DMDHHSIZ', 'WTINT2YR', 'SDMVPSU', 'SDMVSTRA', 'INDFMPIR',\n",
       "       'BPXSY1', 'BPXDI1', 'BPXSY2', 'BPXDI2', 'BMXWT', 'BMXHT', 'BMXBMI',\n",
       "       'BMXLEG', 'BMXARML', 'BMXARMC', 'BMXWAIST', 'HIQ210', 'agegrp',\n",
       "       'Gender'], dtype=object)"
      ]
     },
     "execution_count": 43,
     "metadata": {},
     "output_type": "execute_result"
    }
   ],
   "source": [
    "da.columns.values"
   ]
  },
  {
   "cell_type": "code",
   "execution_count": 55,
   "metadata": {},
   "outputs": [
    {
     "data": {
      "image/png": "[encoded data removed]",
      "text/plain": [
       "<Figure size 432x288 with 1 Axes>"
      ]
     },
     "metadata": {
      "needs_background": "light"
     },
     "output_type": "display_data"
    }
   ],
   "source": [
    "ax = sns.regplot(x='BPXSY1',y='BPXSY2',data=da)"
   ]
  },
  {
   "cell_type": "code",
   "execution_count": 73,
   "metadata": {},
   "outputs": [
    {
     "name": "stdout",
     "output_type": "stream",
     "text": [
      "CI for syst pressure 1: (124.59378718804363, 125.5831545143218) \n",
      "CI for syst pressure 2: (123.92688534371334, 124.90008429681563)\n",
      "CI for the difference: (-0.018909477898866878, 1.3688815397353347)\n"
     ]
    }
   ],
   "source": [
    "df_sys = da[['BPXSY1','BPXSY2']].copy()\n",
    "df_sys.dropna(subset=['BPXSY1','BPXSY2'],axis=0,inplace=True)\n",
    "sys1_mean_ci = sm.stats.DescrStatsW(df_sys['BPXSY1'])#.zconfint_mean()\n",
    "sys2_mean_ci = sm.stats.DescrStatsW(df_sys['BPXSY2'])#.zconfint_mean()\n",
    "print('CI for syst pressure 1:',sys1_mean_ci.zconfint_mean(),'\\nCI for syst pressure 2:',sys2_mean_ci.zconfint_mean())\n",
    "print('CI for the difference:',sm.stats.CompareMeans(sys1_mean_ci,sys2_mean_ci).zconfint_diff())"
   ]
  },
  {
   "cell_type": "markdown",
   "metadata": {},
   "source": [
    "__Q5a.__ Based on these confidence intervals, would you say that a difference of zero between the population mean values of the first and second systolic blood pressure measures is consistent with the data?"
   ]
  },
  {
   "cell_type": "markdown",
   "metadata": {},
   "source": []
  },
  {
   "cell_type": "markdown",
   "metadata": {},
   "source": [
    "__Q5b.__ Discuss how the width of the confidence interval for the within-subject difference compares to the widths of the confidence intervals for the first and second measures."
   ]
  },
  {
   "cell_type": "markdown",
   "metadata": {},
   "source": []
  },
  {
   "cell_type": "markdown",
   "metadata": {},
   "source": [
    "## Question 6\n",
    "\n",
    "Construct a 95% confidence interval for the mean difference between the average age of a smoker, and the average age of a non-smoker."
   ]
  },
  {
   "cell_type": "code",
   "execution_count": 79,
   "metadata": {},
   "outputs": [
    {
     "data": {
      "text/html": [
       "<div>\n",
       "<style scoped>\n",
       "    .dataframe tbody tr th:only-of-type {\n",
       "        vertical-align: middle;\n",
       "    }\n",
       "\n",
       "    .dataframe tbody tr th {\n",
       "        vertical-align: top;\n",
       "    }\n",
       "\n",
       "    .dataframe thead th {\n",
       "        text-align: right;\n",
       "    }\n",
       "</style>\n",
       "<table border=\"1\" class=\"dataframe\">\n",
       "  <thead>\n",
       "    <tr style=\"text-align: right;\">\n",
       "      <th></th>\n",
       "      <th>Age</th>\n",
       "      <th>Smoker</th>\n",
       "    </tr>\n",
       "  </thead>\n",
       "  <tbody>\n",
       "    <tr>\n",
       "      <th>0</th>\n",
       "      <td>62</td>\n",
       "      <td>1</td>\n",
       "    </tr>\n",
       "    <tr>\n",
       "      <th>1</th>\n",
       "      <td>53</td>\n",
       "      <td>1</td>\n",
       "    </tr>\n",
       "    <tr>\n",
       "      <th>2</th>\n",
       "      <td>78</td>\n",
       "      <td>1</td>\n",
       "    </tr>\n",
       "    <tr>\n",
       "      <th>3</th>\n",
       "      <td>56</td>\n",
       "      <td>0</td>\n",
       "    </tr>\n",
       "    <tr>\n",
       "      <th>4</th>\n",
       "      <td>42</td>\n",
       "      <td>0</td>\n",
       "    </tr>\n",
       "    <tr>\n",
       "      <th>...</th>\n",
       "      <td>...</td>\n",
       "      <td>...</td>\n",
       "    </tr>\n",
       "    <tr>\n",
       "      <th>5730</th>\n",
       "      <td>76</td>\n",
       "      <td>1</td>\n",
       "    </tr>\n",
       "    <tr>\n",
       "      <th>5731</th>\n",
       "      <td>26</td>\n",
       "      <td>0</td>\n",
       "    </tr>\n",
       "    <tr>\n",
       "      <th>5732</th>\n",
       "      <td>80</td>\n",
       "      <td>1</td>\n",
       "    </tr>\n",
       "    <tr>\n",
       "      <th>5733</th>\n",
       "      <td>35</td>\n",
       "      <td>1</td>\n",
       "    </tr>\n",
       "    <tr>\n",
       "      <th>5734</th>\n",
       "      <td>24</td>\n",
       "      <td>0</td>\n",
       "    </tr>\n",
       "  </tbody>\n",
       "</table>\n",
       "<p>5735 rows × 2 columns</p>\n",
       "</div>"
      ],
      "text/plain": [
       "      Age  Smoker\n",
       "0      62       1\n",
       "1      53       1\n",
       "2      78       1\n",
       "3      56       0\n",
       "4      42       0\n",
       "...   ...     ...\n",
       "5730   76       1\n",
       "5731   26       0\n",
       "5732   80       1\n",
       "5733   35       1\n",
       "5734   24       0\n",
       "\n",
       "[5735 rows x 2 columns]"
      ]
     },
     "execution_count": 79,
     "metadata": {},
     "output_type": "execute_result"
    }
   ],
   "source": [
    "df_smk = da[['SMQ020','RIDAGEYR']].copy()\n",
    "df_smk['Smoker'] = np.where(df_smk['SMQ020']==1,1,0)\n",
    "df_smk.drop(columns='SMQ020',inplace=True)\n",
    "df_smk.rename(columns={'RIDAGEYR':'Age'},inplace=True)\n",
    "df_smk"
   ]
  },
  {
   "cell_type": "code",
   "execution_count": 99,
   "metadata": {},
   "outputs": [
    {
     "name": "stdout",
     "output_type": "stream",
     "text": [
      "CI for average age of non smokers:\t (44.68411549118788, 45.929467646985415)\n",
      "CI for average age of smokers:\t\t (51.38591951147112, 52.80726720694198)\n",
      "CI for the difference:\t\t\t (5.833764359191363, 7.745839221048442)\n"
     ]
    }
   ],
   "source": [
    "avgage_nonsmkr_ci = sm.stats.DescrStatsW(df_smk[df_smk['Smoker']==0]['Age'])\n",
    "avgage_smkr_ci = sm.stats.DescrStatsW(df_smk[df_smk['Smoker']==1]['Age'])\n",
    "print('CI for average age of non smokers:\\t', avgage_nonsmkr_ci.zconfint_mean())\n",
    "print('CI for average age of smokers:\\t\\t', avgage_smkr_ci.zconfint_mean())\n",
    "print('CI for the difference:\\t\\t\\t',sm.stats.CompareMeans(avgage_smkr_ci,avgage_nonsmkr_ci).zconfint_diff())"
   ]
  },
  {
   "cell_type": "markdown",
   "metadata": {},
   "source": [
    "__Q6a.__ Use graphical and numerical techniques to compare the variation in the ages of smokers to the variation in the ages of non-smokers.  "
   ]
  },
  {
   "cell_type": "code",
   "execution_count": 108,
   "metadata": {},
   "outputs": [
    {
     "data": {
      "image/png": "[encoded data removed]",
      "text/plain": [
       "<Figure size 432x288 with 2 Axes>"
      ]
     },
     "metadata": {
      "needs_background": "light"
     },
     "output_type": "display_data"
    }
   ],
   "source": [
    "# insert your code here\n",
    "fig=plt.figure()\n",
    "ax0 = fig.add_subplot(1,2,1)\n",
    "ax1 = fig.add_subplot(1,2,2)\n",
    "\n",
    "df_smk[df_smk['Smoker']==0]['Age'].plot(kind='box',ax=ax0)\n",
    "df_smk[df_smk['Smoker']==1]['Age'].plot(kind='box',ax=ax1)\n",
    "\n",
    "ax0.set_xlabel('Non Smoker')\n",
    "ax1.set_xlabel('Smoker')\n",
    "\n",
    "plt.show()"
   ]
  },
  {
   "cell_type": "markdown",
   "metadata": {},
   "source": [
    "__Q6b.__ Does it appear that uncertainty about the mean age of smokers, or uncertainty about the mean age of non-smokers contributed more to the uncertainty for the mean difference that we are focusing on here?"
   ]
  }
 ],
 "metadata": {
  "kernelspec": {
   "display_name": "Python 3",
   "language": "python",
   "name": "python3"
  },
  "language_info": {
   "codemirror_mode": {
    "name": "ipython",
    "version": 3
   },
   "file_extension": ".py",
   "mimetype": "text/x-python",
   "name": "python",
   "nbconvert_exporter": "python",
   "pygments_lexer": "ipython3",
   "version": "3.7.6"
  }
 },
 "nbformat": 4,
 "nbformat_minor": 4
}
